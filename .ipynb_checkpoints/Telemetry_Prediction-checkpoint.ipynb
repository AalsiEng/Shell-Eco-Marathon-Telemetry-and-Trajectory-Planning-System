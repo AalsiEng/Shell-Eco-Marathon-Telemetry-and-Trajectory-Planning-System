{
 "cells": [
  {
   "cell_type": "code",
   "execution_count": 1,
   "id": "fa2e863b-b899-4f0b-ad52-55575a414d83",
   "metadata": {},
   "outputs": [],
   "source": [
    "coeff_of_drag = 0.3424\n",
    "density = 1.225 #kg/m^3\n",
    "Frontal_Area = 1.298 #m^2\n",
    "rolling_resistance = 0.05\n",
    "g = 9.81\n",
    "turning_radius = 6 #m\n",
    "track_width = 1.085\n",
    "idle_rpm = 2500\n",
    "prim_red = 4.055\n",
    "sec_red = 2.857\n",
    "diff_red = 2.714\n",
    "gear_1 = 2.769\n",
    "gear_2 = 1.88\n",
    "gear_3 = 1.45\n",
    "gear_4 = 1.174\n",
    "gear_5 = 1\n",
    "m = 220 #kg\n"
   ]
  },
  {
   "cell_type": "code",
   "execution_count": null,
   "id": "039cec6f-2f33-4afb-8d14-e72248186792",
   "metadata": {},
   "outputs": [],
   "source": [
    "import numpy as np\n",
    "import math\n",
    "from math import sqrt\n",
    "import csv\n",
    "import pandas as pd\n",
    "import csv\n",
    "from math import radians, sin, cos, sqrt, atan2, degrees\n",
    "\n",
    "def throttle_calc():\n",
    "    global throttle, dist, time, time_step, distance_covered, has_ended\n",
    "    if distance_covered < dist:\n",
    "        throttle = 100\n",
    "    else:\n",
    "        throttle = 0"
   ]
  }
 ],
 "metadata": {
  "kernelspec": {
   "display_name": "Python 3 (ipykernel)",
   "language": "python",
   "name": "python3"
  },
  "language_info": {
   "codemirror_mode": {
    "name": "ipython",
    "version": 3
   },
   "file_extension": ".py",
   "mimetype": "text/x-python",
   "name": "python",
   "nbconvert_exporter": "python",
   "pygments_lexer": "ipython3",
   "version": "3.13.7"
  }
 },
 "nbformat": 4,
 "nbformat_minor": 5
}
